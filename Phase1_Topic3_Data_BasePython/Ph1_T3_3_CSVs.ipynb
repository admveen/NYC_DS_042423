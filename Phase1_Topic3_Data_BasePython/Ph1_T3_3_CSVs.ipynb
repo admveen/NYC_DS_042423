{
 "cells": [
  {
   "cell_type": "markdown",
   "metadata": {
    "slideshow": {
     "slide_type": "slide"
    }
   },
   "source": [
    "<div style=\"color:white;\n",
    "           display:fill;\n",
    "           border-radius:5px;\n",
    "           background-color:#5642C5;\n",
    "           font-size:200%;\n",
    "           font-family:Arial;letter-spacing:0.5px\">\n",
    "\n",
    "<p width = 20%, style=\"padding: 10px;\n",
    "              color:white;\">\n",
    "Base Python: Comma Separated Value (CSV) Files\n",
    "              \n",
    "</p>\n",
    "</div>\n",
    "\n",
    "Data Science Cohort Live NYC Feb 2022\n",
    "<p>Phase 1: Topic 3</p>\n",
    "<br>\n",
    "<br>\n",
    "\n",
    "<div align = \"right\">\n",
    "<img src=\"Images/flatiron-school-logo.png\" align = \"right\" width=\"200\"/>\n",
    "</div>\n",
    "    \n",
    "    "
   ]
  },
  {
   "cell_type": "markdown",
   "metadata": {
    "slideshow": {
     "slide_type": "slide"
    }
   },
   "source": [
    "#### Comma Separated Value Format\n",
    "\n",
    "- Tabular data\n",
    "- Column entries separated by commas\n",
    "- Typical file extensions: .csv, .dat, .txt\n",
    "- Very common data format\n",
    "\n",
    "Example: Track times (s) for 100m dash for four athletes across 3 meets."
   ]
  },
  {
   "cell_type": "markdown",
   "metadata": {
    "slideshow": {
     "slide_type": "slide"
    }
   },
   "source": [
    "Clear tabular format:\n",
    "\n",
    "| Meet 1 | Meet 2 | Meet 3 |\n",
    "| ------ | ------ | ------ |\n",
    "| 13.10  | 13.59  | 13.44  |\n",
    "| 13.93  | 13.85  | 13.47  |\n",
    "| 14.12  | 14.41  | 13.89  |\n",
    "| 14.42  | 13.55  | 13.43  |\n"
   ]
  },
  {
   "cell_type": "markdown",
   "metadata": {
    "slideshow": {
     "slide_type": "slide"
    }
   },
   "source": [
    "Data as nested list of numbers:"
   ]
  },
  {
   "cell_type": "code",
   "execution_count": 1,
   "metadata": {
    "slideshow": {
     "slide_type": "fragment"
    }
   },
   "outputs": [
    {
     "data": {
      "text/plain": [
       "[[13.1, 13.59, 13.44],\n",
       " [13.93, 13.85, 13.47],\n",
       " [14.12, 14.41, 13.89],\n",
       " [14.42, 13.55, 13.43]]"
      ]
     },
     "execution_count": 1,
     "metadata": {},
     "output_type": "execute_result"
    }
   ],
   "source": [
    "track_times = [\n",
    "    [13.10, 13.59, 13.44],\n",
    "    [13.93, 13.85, 13.47],\n",
    "    [14.12, 14.41, 13.89],\n",
    "    [14.42, 13.55, 13.43]\n",
    "]\n",
    "\n",
    "track_times"
   ]
  },
  {
   "cell_type": "markdown",
   "metadata": {
    "slideshow": {
     "slide_type": "slide"
    }
   },
   "source": [
    "Data in file represented as simple text with comma delimiter:\n",
    "- Coming from file will be formatted as string.\n",
    "- Will look like below:"
   ]
  },
  {
   "cell_type": "code",
   "execution_count": 2,
   "metadata": {
    "slideshow": {
     "slide_type": "subslide"
    }
   },
   "outputs": [
    {
     "data": {
      "text/plain": [
       "'13.1,13.59,13.44\\n13.93,13.85,13.47\\n14.12,14.41,13.89\\n14.42,13.55,13.43'"
      ]
     },
     "execution_count": 2,
     "metadata": {},
     "output_type": "execute_result"
    }
   ],
   "source": [
    "# Initialize an empty string\n",
    "track_times_csv = \"\"\n",
    "\n",
    "# Loop over all lists in the overall list\n",
    "for index, athlete_times in enumerate(track_times):\n",
    "    # Join together the values in the nested list using\n",
    "    # a comma as a separator\n",
    "    athlete_times_string = \",\".join([str(time) for time in athlete_times])\n",
    "    # Append the values to the overall string\n",
    "    track_times_csv += athlete_times_string\n",
    "    # Append a newline, unless this is the last row\n",
    "    if index < (len(track_times) - 1):\n",
    "        track_times_csv += \"\\n\"\n",
    "    \n",
    "track_times_csv"
   ]
  },
  {
   "cell_type": "markdown",
   "metadata": {
    "slideshow": {
     "slide_type": "slide"
    }
   },
   "source": [
    "What we want (inverse process):\n",
    "- Interpret string as tabular data.\n",
    "- Convert to a Python list or dict.\n",
    "- Load into memory."
   ]
  },
  {
   "cell_type": "markdown",
   "metadata": {
    "slideshow": {
     "slide_type": "subslide"
    }
   },
   "source": [
    "Write comma separated string to file:"
   ]
  },
  {
   "cell_type": "code",
   "execution_count": 3,
   "metadata": {
    "slideshow": {
     "slide_type": "fragment"
    }
   },
   "outputs": [],
   "source": [
    "with open(\"Data/track_times.csv\", \"w\") as f:\n",
    "    f.write(track_times_csv)"
   ]
  },
  {
   "cell_type": "code",
   "execution_count": 4,
   "metadata": {
    "slideshow": {
     "slide_type": "fragment"
    }
   },
   "outputs": [
    {
     "data": {
      "text/plain": [
       "True"
      ]
     },
     "execution_count": 4,
     "metadata": {},
     "output_type": "execute_result"
    }
   ],
   "source": [
    "import os\n",
    "os.path.exists('Data/track_times.csv')"
   ]
  },
  {
   "cell_type": "markdown",
   "metadata": {
    "slideshow": {
     "slide_type": "slide"
    }
   },
   "source": [
    "#### Open and read a csv file (raw string):"
   ]
  },
  {
   "cell_type": "code",
   "execution_count": 5,
   "metadata": {
    "slideshow": {
     "slide_type": "fragment"
    }
   },
   "outputs": [],
   "source": [
    "with open(\"Data/track_times.csv\", \"r\") as f:\n",
    "    csv_string = f.read()"
   ]
  },
  {
   "cell_type": "code",
   "execution_count": 6,
   "metadata": {
    "scrolled": true,
    "slideshow": {
     "slide_type": "fragment"
    }
   },
   "outputs": [
    {
     "data": {
      "text/plain": [
       "'13.1,13.59,13.44\\n13.93,13.85,13.47\\n14.12,14.41,13.89\\n14.42,13.55,13.43'"
      ]
     },
     "execution_count": 6,
     "metadata": {},
     "output_type": "execute_result"
    }
   ],
   "source": [
    "type(csv_string)\n",
    "csv_string"
   ]
  },
  {
   "cell_type": "markdown",
   "metadata": {
    "cell_style": "center",
    "slideshow": {
     "slide_type": "slide"
    }
   },
   "source": [
    "#### Open and read a csv file (convert to list format) line by line:\n",
    "- Good way to do things.\n",
    "- Less memory\n",
    "- Can process and clean line by line.\n"
   ]
  },
  {
   "cell_type": "code",
   "execution_count": 3,
   "metadata": {
    "cell_style": "center",
    "slideshow": {
     "slide_type": "subslide"
    }
   },
   "outputs": [],
   "source": [
    "\n",
    "with open(\"Data/track_times.csv\", \"r\") as f:\n",
    "    data = []\n",
    "    \n",
    "    while True:\n",
    "        csv_string = f.readline()\n",
    "        if csv_string == '':\n",
    "            break\n",
    "        row = csv_string.strip().split(\",\")\n",
    "        data.append(row)\n"
   ]
  },
  {
   "cell_type": "code",
   "execution_count": 4,
   "metadata": {
    "slideshow": {
     "slide_type": "fragment"
    }
   },
   "outputs": [
    {
     "data": {
      "text/plain": [
       "[['13.1', '13.59', '13.44'],\n",
       " ['13.93', '13.85', '13.47'],\n",
       " ['14.12', '14.41', '13.89'],\n",
       " ['14.42', '13.55', '13.43']]"
      ]
     },
     "execution_count": 4,
     "metadata": {},
     "output_type": "execute_result"
    }
   ],
   "source": [
    "data"
   ]
  },
  {
   "cell_type": "markdown",
   "metadata": {
    "cell_style": "center",
    "slideshow": {
     "slide_type": "slide"
    }
   },
   "source": [
    "#### Another (better) way to do this:\n",
    "\n",
    "- ###### file object can be treated as iterable\n",
    "- for loop over file object:\n",
    "    - calls .readline() implicitly.\n",
    "    - terminates when no more lines: automatic"
   ]
  },
  {
   "cell_type": "code",
   "execution_count": 5,
   "metadata": {
    "cell_style": "center",
    "slideshow": {
     "slide_type": "fragment"
    }
   },
   "outputs": [],
   "source": [
    "with open(\"Data/track_times.csv\", \"r\") as f:\n",
    "    data = []\n",
    "    delimiter = \",\"\n",
    "    # line is the result of f.readline() implicit:\n",
    "    for line in f:\n",
    "        # strip \"\\n\" and split on delimiter.\n",
    "        data.append(line.strip().split(delimiter))\n"
   ]
  },
  {
   "cell_type": "code",
   "execution_count": 6,
   "metadata": {
    "slideshow": {
     "slide_type": "slide"
    }
   },
   "outputs": [
    {
     "data": {
      "text/plain": [
       "[['13.1', '13.59', '13.44'],\n",
       " ['13.93', '13.85', '13.47'],\n",
       " ['14.12', '14.41', '13.89'],\n",
       " ['14.42', '13.55', '13.43']]"
      ]
     },
     "execution_count": 6,
     "metadata": {},
     "output_type": "execute_result"
    }
   ],
   "source": [
    "data"
   ]
  },
  {
   "cell_type": "markdown",
   "metadata": {
    "slideshow": {
     "slide_type": "fragment"
    }
   },
   "source": [
    "Thats better, but it's still not exactly what we want.\n",
    "\n",
    "What's the issue?"
   ]
  },
  {
   "cell_type": "code",
   "execution_count": 7,
   "metadata": {
    "slideshow": {
     "slide_type": "fragment"
    }
   },
   "outputs": [
    {
     "name": "stdout",
     "output_type": "stream",
     "text": [
      "<class 'str'>\n"
     ]
    },
    {
     "data": {
      "text/plain": [
       "'13.1'"
      ]
     },
     "execution_count": 7,
     "metadata": {},
     "output_type": "execute_result"
    }
   ],
   "source": [
    "print(type(data[0][0]))\n",
    "data[0][0]"
   ]
  },
  {
   "cell_type": "markdown",
   "metadata": {
    "slideshow": {
     "slide_type": "slide"
    }
   },
   "source": [
    "DATA TYPES!!! DATA TYPES!!! DATA TYPES!!!!\n",
    "\n",
    "Have to take care of this manually."
   ]
  },
  {
   "cell_type": "code",
   "execution_count": 8,
   "metadata": {
    "slideshow": {
     "slide_type": "fragment"
    }
   },
   "outputs": [],
   "source": [
    "with open(\"Data/track_times.csv\", \"r\") as f:\n",
    "    data = []\n",
    "    for line in f:\n",
    "        # line is a string. strip \"\\n\" and split on delimiter.\n",
    "        delimiter = \",\"\n",
    "        stripped_line_list = line.strip().split(delimiter)\n",
    "        # convert each element from string to float\n",
    "        float_line = [float(x) for x in stripped_line_list]\n",
    "        \n",
    "        data.append(float_line)"
   ]
  },
  {
   "cell_type": "code",
   "execution_count": 9,
   "metadata": {
    "slideshow": {
     "slide_type": "subslide"
    }
   },
   "outputs": [
    {
     "data": {
      "text/plain": [
       "[[13.1, 13.59, 13.44],\n",
       " [13.93, 13.85, 13.47],\n",
       " [14.12, 14.41, 13.89],\n",
       " [14.42, 13.55, 13.43]]"
      ]
     },
     "execution_count": 9,
     "metadata": {},
     "output_type": "execute_result"
    }
   ],
   "source": [
    "data"
   ]
  },
  {
   "cell_type": "code",
   "execution_count": 10,
   "metadata": {
    "slideshow": {
     "slide_type": "fragment"
    }
   },
   "outputs": [
    {
     "data": {
      "text/plain": [
       "float"
      ]
     },
     "execution_count": 10,
     "metadata": {},
     "output_type": "execute_result"
    }
   ],
   "source": [
    "type(data[0][0])"
   ]
  },
  {
   "cell_type": "markdown",
   "metadata": {
    "slideshow": {
     "slide_type": "slide"
    }
   },
   "source": [
    "#### Dealing with headers and column names.\n",
    "\n",
    "- Often .csv file explicitly contains column names on first row.\n",
    "- Have to deal with this."
   ]
  },
  {
   "cell_type": "code",
   "execution_count": 11,
   "metadata": {
    "slideshow": {
     "slide_type": "fragment"
    }
   },
   "outputs": [
    {
     "data": {
      "text/plain": [
       "'Meet 1,Meet 2,Meet 3\\n13.1,13.59,13.44\\n13.93,13.85,13.47\\n14.12,14.41,13.89\\n14.42,13.55,13.43\\n'"
      ]
     },
     "execution_count": 11,
     "metadata": {},
     "output_type": "execute_result"
    }
   ],
   "source": [
    "with open(\"Data/track_times_header.csv\", \"r\") as f:\n",
    "    data = f.read()\n",
    "data"
   ]
  },
  {
   "cell_type": "code",
   "execution_count": 19,
   "metadata": {
    "slideshow": {
     "slide_type": "slide"
    }
   },
   "outputs": [],
   "source": [
    "\n",
    "data = []\n",
    "\n",
    "with open(\"Data/track_times_header.csv\", \"r\") as f:\n",
    "    col_line = 0  # lets say where column name line is.\n",
    "    delimiter = ','\n",
    "    # enumerate returns (integer index, element) tuple:\n",
    "    # helps us keep track of line number in file.\n",
    "    \n",
    "    for i, line in enumerate(f): \n",
    "        # line is a string. strip \"\\n\" and split on delimiter.\n",
    "        stripped_line_list = line.strip().split(delimiter) \n",
    "        \n",
    "        if i == 0: # ignores header info before column line\n",
    "            data.append(stripped_line_list)\n",
    "            \n",
    "        else:\n",
    "        # convert each element from string to float: only for lines \n",
    "            float_line = [float(x) for x in stripped_line_list]\n",
    "            data.append(float_line)\n",
    "  "
   ]
  },
  {
   "cell_type": "code",
   "execution_count": 20,
   "metadata": {
    "slideshow": {
     "slide_type": "subslide"
    }
   },
   "outputs": [
    {
     "data": {
      "text/plain": [
       "[['Meet 1', 'Meet 2', 'Meet 3'],\n",
       " [13.1, 13.59, 13.44],\n",
       " [13.93, 13.85, 13.47],\n",
       " [14.12, 14.41, 13.89],\n",
       " [14.42, 13.55, 13.43]]"
      ]
     },
     "execution_count": 20,
     "metadata": {},
     "output_type": "execute_result"
    }
   ],
   "source": [
    "data"
   ]
  },
  {
   "cell_type": "markdown",
   "metadata": {
    "slideshow": {
     "slide_type": "slide"
    }
   },
   "source": [
    "This is a common operation. \n",
    "- csv library can help with some of this:\n",
    "    - Takes care of stripping and splitting.\n",
    "    - Can take care of interpreting numeric types.\n",
    "    "
   ]
  },
  {
   "cell_type": "code",
   "execution_count": 12,
   "metadata": {
    "slideshow": {
     "slide_type": "fragment"
    }
   },
   "outputs": [],
   "source": [
    "# import csv library (included in base python)\n",
    "import csv"
   ]
  },
  {
   "cell_type": "code",
   "execution_count": 13,
   "metadata": {
    "cell_style": "center",
    "scrolled": true,
    "slideshow": {
     "slide_type": "slide"
    }
   },
   "outputs": [
    {
     "data": {
      "text/plain": [
       "[[13.1, 13.59, 13.44],\n",
       " [13.93, 13.85, 13.47],\n",
       " [14.12, 14.41, 13.89],\n",
       " [14.42, 13.55, 13.43]]"
      ]
     },
     "execution_count": 13,
     "metadata": {},
     "output_type": "execute_result"
    }
   ],
   "source": [
    "data = []\n",
    "\n",
    "with open(\"Data/track_times.csv\", \"r\") as f:\n",
    "    # converts to numeric automatically, strips and takes care of splitting on delimiters.   \n",
    "    csv_obj = csv.reader(f, delimiter = \",\" , quoting=csv.QUOTE_NONNUMERIC) \n",
    "    for row in csv_obj:\n",
    "        data.append(row)\n",
    "data  "
   ]
  },
  {
   "cell_type": "markdown",
   "metadata": {
    "slideshow": {
     "slide_type": "subslide"
    }
   },
   "source": [
    "Compared to:"
   ]
  },
  {
   "cell_type": "code",
   "execution_count": 218,
   "metadata": {
    "cell_style": "center",
    "slideshow": {
     "slide_type": "fragment"
    }
   },
   "outputs": [],
   "source": [
    "with open(\"Data/track_times.csv\", \"r\") as f:\n",
    "    data = []\n",
    "    for line in f:\n",
    "        # line is a string. strip \"\\n\" and split on delimiter.\n",
    "        delimiter = \",\"\n",
    "        stripped_line_list = line.strip().split(delimiter)\n",
    "        # convert each element from string to float\n",
    "        float_line = [float(x) for x in stripped_line_list]\n",
    "        \n",
    "        data.append(float_line)\n",
    "        data"
   ]
  },
  {
   "cell_type": "markdown",
   "metadata": {
    "cell_style": "center",
    "slideshow": {
     "slide_type": "slide"
    }
   },
   "source": [
    "Take in csv with column name row:"
   ]
  },
  {
   "cell_type": "code",
   "execution_count": 14,
   "metadata": {
    "cell_style": "center",
    "slideshow": {
     "slide_type": "fragment"
    }
   },
   "outputs": [
    {
     "data": {
      "text/plain": [
       "[['Meet 1', 'Meet 2', 'Meet 3'],\n",
       " ['13.1', '13.59', '13.44'],\n",
       " ['13.93', '13.85', '13.47'],\n",
       " ['14.12', '14.41', '13.89'],\n",
       " ['14.42', '13.55', '13.43']]"
      ]
     },
     "execution_count": 14,
     "metadata": {},
     "output_type": "execute_result"
    }
   ],
   "source": [
    "data = []\n",
    "with open(\"Data/track_times_header.csv\", \"r\") as f:\n",
    "    \n",
    "    # input the rest of the file into the csv reader\n",
    "    csv_obj = csv.reader(f, delimiter = ',')\n",
    "    for row in csv_obj:\n",
    "        data.append(row)\n",
    "        \n",
    "data"
   ]
  },
  {
   "cell_type": "markdown",
   "metadata": {
    "slideshow": {
     "slide_type": "fragment"
    }
   },
   "source": [
    "Data in string format. If you want data in numeric form:"
   ]
  },
  {
   "cell_type": "code",
   "execution_count": 15,
   "metadata": {
    "cell_style": "center",
    "slideshow": {
     "slide_type": "subslide"
    }
   },
   "outputs": [
    {
     "data": {
      "text/plain": [
       "[['Meet 1', 'Meet 2', 'Meet 3'],\n",
       " [13.1, 13.59, 13.44],\n",
       " [13.93, 13.85, 13.47],\n",
       " [14.12, 14.41, 13.89],\n",
       " [14.42, 13.55, 13.43]]"
      ]
     },
     "execution_count": 15,
     "metadata": {},
     "output_type": "execute_result"
    }
   ],
   "source": [
    "data = []\n",
    "with open(\"Data/track_times_header.csv\", \"r\") as f:\n",
    "    # manually get first row as column names\n",
    "    cols = next(f).strip().split(',')\n",
    "    data.append(cols)\n",
    "\n",
    "    \n",
    "    # input the rest of the file into the csv reader\n",
    "    # convert to numeric\n",
    "    csv_obj = csv.reader(f, delimiter = ',', quoting = csv.QUOTE_NONNUMERIC)\n",
    "    \n",
    "    for row in csv_obj:\n",
    "        data.append(row)\n",
    "data"
   ]
  },
  {
   "cell_type": "markdown",
   "metadata": {
    "slideshow": {
     "slide_type": "slide"
    }
   },
   "source": [
    "#### csv DictReader\n",
    "- gets each row as dictionary with key as column (attribute) names.\n",
    "- logical way to address data.\n"
   ]
  },
  {
   "cell_type": "code",
   "execution_count": 16,
   "metadata": {
    "scrolled": true,
    "slideshow": {
     "slide_type": "fragment"
    }
   },
   "outputs": [
    {
     "data": {
      "text/plain": [
       "[{'Meet 1': '13.1', 'Meet 2': '13.59', 'Meet 3': '13.44'},\n",
       " {'Meet 1': '13.93', 'Meet 2': '13.85', 'Meet 3': '13.47'},\n",
       " {'Meet 1': '14.12', 'Meet 2': '14.41', 'Meet 3': '13.89'},\n",
       " {'Meet 1': '14.42', 'Meet 2': '13.55', 'Meet 3': '13.43'}]"
      ]
     },
     "execution_count": 16,
     "metadata": {},
     "output_type": "execute_result"
    }
   ],
   "source": [
    "with open(\"Data/track_times_header.csv\", \"r\") as f:\n",
    "    reader = csv.DictReader(f, delimiter = \",\")\n",
    "    data = list(reader)\n",
    "\n",
    "data"
   ]
  },
  {
   "cell_type": "code",
   "execution_count": 17,
   "metadata": {},
   "outputs": [
    {
     "data": {
      "text/plain": [
       "'13.89'"
      ]
     },
     "execution_count": 17,
     "metadata": {},
     "output_type": "execute_result"
    }
   ],
   "source": [
    "data[2]['Meet 3']"
   ]
  },
  {
   "cell_type": "markdown",
   "metadata": {
    "slideshow": {
     "slide_type": "slide"
    }
   },
   "source": [
    "- Want to load numeric data as floats. Keeps column name keys as strings.\n",
    "    - csv Dictreader takes in fieldnames argument for column keys.\n",
    "    - Can tell Dictreader to interpret data as numeric."
   ]
  },
  {
   "cell_type": "code",
   "execution_count": 22,
   "metadata": {
    "slideshow": {
     "slide_type": "fragment"
    }
   },
   "outputs": [
    {
     "data": {
      "text/plain": [
       "[{'Meet 1': 13.1, 'Meet 2': 13.59, 'Meet 3': 13.44},\n",
       " {'Meet 1': 13.93, 'Meet 2': 13.85, 'Meet 3': 13.47},\n",
       " {'Meet 1': 14.12, 'Meet 2': 14.41, 'Meet 3': 13.89},\n",
       " {'Meet 1': 14.42, 'Meet 2': 13.55, 'Meet 3': 13.43}]"
      ]
     },
     "execution_count": 22,
     "metadata": {},
     "output_type": "execute_result"
    }
   ],
   "source": [
    "with open(\"Data/track_times_header.csv\", \"r\") as f:\n",
    "    colnames = next(f).strip().split(',')\n",
    "    reader = csv.DictReader(f, delimiter = \",\", quoting=csv.QUOTE_NONNUMERIC, fieldnames = colnames)\n",
    "    data = list(reader)\n",
    "\n",
    "reader\n",
    "colnames\n",
    "data"
   ]
  },
  {
   "cell_type": "code",
   "execution_count": 23,
   "metadata": {
    "slideshow": {
     "slide_type": "fragment"
    }
   },
   "outputs": [
    {
     "name": "stdout",
     "output_type": "stream",
     "text": [
      "<class 'float'>\n"
     ]
    },
    {
     "data": {
      "text/plain": [
       "13.59"
      ]
     },
     "execution_count": 23,
     "metadata": {},
     "output_type": "execute_result"
    }
   ],
   "source": [
    "print(type(data[0]['Meet 2']))\n",
    "data[0]['Meet 2']"
   ]
  },
  {
   "cell_type": "markdown",
   "metadata": {
    "cell_style": "split",
    "slideshow": {
     "slide_type": "slide"
    }
   },
   "source": [
    "What we've learned:\n",
    "\n",
    "- How to import CSVs:\n",
    "    - base python\n",
    "    - csv library.\n",
    "- Dealing with:\n",
    "    - headers: code\n",
    "    - column names: more code\n",
    "    - different data types: tricky, more code\n"
   ]
  },
  {
   "cell_type": "markdown",
   "metadata": {
    "cell_style": "split",
    "slideshow": {
     "slide_type": "fragment"
    }
   },
   "source": [
    "Important to know base python data importing for csv...\n",
    "\n",
    "but:"
   ]
  },
  {
   "cell_type": "markdown",
   "metadata": {
    "slideshow": {
     "slide_type": "slide"
    }
   },
   "source": [
    "Pandas will save us from code apocalypse!!!\n",
    "<br>\n",
    "<br>\n",
    "<div align = \"right\">\n",
    "    <center><img src=\"Images/pandas.jpg\" align = \"center\" width=\"500\"/></center>\n",
    "</div>\n",
    "    \n",
    "\n",
    "\n"
   ]
  }
 ],
 "metadata": {
  "celltoolbar": "Slideshow",
  "kernelspec": {
   "display_name": "Python 3",
   "language": "python",
   "name": "python3"
  },
  "language_info": {
   "codemirror_mode": {
    "name": "ipython",
    "version": 3
   },
   "file_extension": ".py",
   "mimetype": "text/x-python",
   "name": "python",
   "nbconvert_exporter": "python",
   "pygments_lexer": "ipython3",
   "version": "3.8.5"
  }
 },
 "nbformat": 4,
 "nbformat_minor": 5
}
